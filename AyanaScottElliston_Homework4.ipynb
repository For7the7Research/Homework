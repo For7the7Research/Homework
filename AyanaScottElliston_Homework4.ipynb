{
 "cells": [
  {
   "cell_type": "markdown",
   "metadata": {},
   "source": [
    "# Homework 4"
   ]
  },
  {
   "cell_type": "markdown",
   "metadata": {},
   "source": [
    "## CONCEPT QUESTIONS\n",
    "\n",
    "1. What does one need to do to use a module?\n",
    "\n",
    "One needs to import the module or package into your environment. Otherwise, you will receive an error that the name is not defined.\n",
    "\n",
    "2. Name a Module (not the DateTime Nodule) we looked at and write a line or 2 of code as an example using this module.\n",
    "\n",
    "import random\n",
    "print(random.int(1,50))\n",
    "\n",
    "3. What is a benefit of using Exception handling?\n",
    "\n",
    "You can set a response that you have dictated to arise when you expect an error in a specific area of your code\n",
    "\n",
    "4. what are the 4 components used for Python Exception Handling?\n",
    "\n",
    "try, except, else, and finally\n",
    "\n",
    "5. NumPy arrays are like what Python data type?\n",
    "\n",
    "Lists\n",
    "\n",
    "6. What is one of the main benefits of using NumPy arrays.\n",
    "\n",
    "The ability to manipulate the data faster.\n",
    "\n",
    "7. What is one of the main requirements about the 'dtype' of NumPy arrays?\n",
    "\n",
    "Numpy arrays store data of the same data type. There cannot be multiple data types stored into an array like a python list.\n",
    "\n",
    "8. Of the 10 uses of NumPy, name 2.\n",
    "\n",
    "Statistical operations and linear algebra.\n",
    "\n",
    "9. Name one of the other libraries we'll use with NumPy?\n",
    "\n",
    "Pandas\n",
    "\n",
    "10. What is the shape of NumPy arrays?\n",
    "\n",
    "Multidimensional\n",
    "\n",
    "11. What is a Tensor?\n",
    "\n",
    "A three dimensional array is called a tensor in machine learning circles.\n",
    "\n",
    "12. Name a reason why it's better using NumPy for Data Analysis than using a Python List?\n",
    "\n",
    "It occupies less memory than a Python list. \n",
    "\n",
    "13. When creating an \"empty\" array, where do the elements come from?\n",
    "\n",
    "The elements come from the memory allocated for the array. \n",
    "I would like to better understand how this works in principal though. "
   ]
  },
  {
   "cell_type": "markdown",
   "metadata": {},
   "source": [
    "# Flow Control Methods:\n",
    "\n",
    "1. Create an if statement: if 'age' is greater than or equal to 25, print \"Renting a car is more affordable\", however if 'age' is less than 25, print \"Renting a car is very expensive.\"\n",
    "2. Create and chain an if-else statement: if 'age' is greater than or equal to 25, print \"Renting a car is more affordable.\" If 'age' is less than 25 but greater than or equal to 18, print \"Renting a car is very expensive.\" Finally, if age is less than 18, print \"You cannot legally rent a car.\"\n",
    "3. Loop over the following string to (1) count all the characters in the string and (2) print out all the vowels -- \"The quick brown fox jumps over the lazy dog\"\n",
    "4. Write a nested loop that prints out every piece of clothing from the couture list, in every fashionable color from the panettone set: couture = [\"trousers\", \"blouse\", \"bandana\", \"cumber band\", \"blazer\", \"vest\", \"french beret\", \"scarf\", \"stole\"] and panettone = {\"cerise\", \"fuchsia\", \"aqua\", \"maple\", \"auburn\", \"burnt sienna\", \"gunmetal blue\", \"Dark Sapphire\"}\n",
    "5. Use range as a loop to calculate the sum of all the numbers from 1 to 100\n",
    "6. Print the second item in this fruits list. [\"apple\", \"banana\", \"cherry\"]\n",
    "7. Change the value from \"apple\" to \"kiwi\", in the fruits list. [\"apple\", \"banana\", \"cherry\"]\n",
    "8. Use the append method to add \"orange\" to the fruits list. [\"apple\", \"banana\", \"cherry\"]\n",
    "9.  Use the insert method to add \"lemon\" as the second item in the fruits list. [\"apple\", \"banana\", \"cherry\"]\n",
    "10.  Use the remove method to remove \"banana\" from the fruits list. [\"apple\", \"banana\", \"cherry\"]\n",
    "11. Use negative indexing to print the 3rd and 2nd to last items in the list. [\"apple\", \"banana\", \"cherry\", \"orange\", \"kiwi\", \"melon\", \"mango\"]\n",
    "12. Use a range of indexes to print the third, fourth, and fifth item in the list. [\"apple\", \"banana\", \"cherry\", \"orange\", \"kiwi\", \"melon\", \"mango\"]\n",
    "13. Use the correct syntax to print the number of items in the list. [\"apple\", \"banana\", \"cherry\", \"orange\", \"kiwi\", \"melon\", \"mango\"]\n",
    "14. Use the correct syntax to sort this list in reverse order [\"apple\", \"banana\", \"cherry\", \"orange\", \"kiwi\", \"melon\", \"mango\"]"
   ]
  },
  {
   "cell_type": "code",
   "execution_count": null,
   "metadata": {},
   "outputs": [
    {
     "name": "stdout",
     "output_type": "stream",
     "text": [
      "Renting a car is more affordable.\n"
     ]
    }
   ],
   "source": [
    "#Flow Control Question 1\n",
    "\n",
    " #Create an if statement: if 'age' is greater than or equal to 25, print \"Renting a car is more affordable\", however if 'age' is less than 25, print \"Renting a car is very expensive.\"\n",
    "\n",
    "age = int(input())\n",
    "\n",
    "if age >= 25:\n",
    "    print(\"Renting a car is more affordable.\")\n",
    "else:\n",
    "    print(\"Renting a car is very expensive!\")"
   ]
  },
  {
   "cell_type": "code",
   "execution_count": 11,
   "metadata": {},
   "outputs": [
    {
     "name": "stdout",
     "output_type": "stream",
     "text": [
      "You cannot legally rent a car.\n"
     ]
    }
   ],
   "source": [
    "#Flow Control Question 2\n",
    "\n",
    "#2. Create and chain an if-else statement: if 'age' is greater than or equal to 25, print \"Renting a car is more affordable.\" If 'age' is less than 25 \n",
    "# but greater than or equal to 18, print \"Renting a car is very expensive.\" Finally, if age is less than 18, print \"You cannot legally rent a car.\"\n",
    "\n",
    "age = int(input())\n",
    "\n",
    "if age >= 25:\n",
    "    print(\"Renting a car is more affordable.\")\n",
    "elif age <25 and age >= 18:\n",
    "    print(\"Renting a car is very expensive!\") \n",
    "else:\n",
    "    print(\"You cannot legally rent a car.\")"
   ]
  },
  {
   "cell_type": "code",
   "execution_count": 21,
   "metadata": {},
   "outputs": [
    {
     "name": "stdout",
     "output_type": "stream",
     "text": [
      "44\n",
      "e\n",
      "u\n",
      "i\n",
      "o\n",
      "o\n",
      "u\n",
      "o\n",
      "e\n",
      "e\n",
      "a\n",
      "o\n"
     ]
    }
   ],
   "source": [
    "#Flow Control Question 3\n",
    "\n",
    "#3. Loop over the following string to (1) count all the characters in the string and (2) print out all the vowels -- \"The quick brown fox jumps over the lazy dog\"\n",
    "\n",
    "stringy= \"The quick brown fox jumps over the lazy dog.\"\n",
    "vowels = \"aeiouAEIOU\"\n",
    "\n",
    "print(len(stringy))\n",
    "\n",
    "for char in stringy:\n",
    "    if char in vowels:\n",
    "        print(char)"
   ]
  },
  {
   "cell_type": "code",
   "execution_count": 1,
   "metadata": {},
   "outputs": [
    {
     "name": "stdout",
     "output_type": "stream",
     "text": [
      "trousers maple\n",
      "trousers gunmetal blue\n",
      "trousers fuchsia\n",
      "trousers aqua\n",
      "trousers Dark Sapphire\n",
      "trousers auburn\n",
      "trousers cerise\n",
      "trousers burnt sienna\n",
      "blouse maple\n",
      "blouse gunmetal blue\n",
      "blouse fuchsia\n",
      "blouse aqua\n",
      "blouse Dark Sapphire\n",
      "blouse auburn\n",
      "blouse cerise\n",
      "blouse burnt sienna\n",
      "bandana maple\n",
      "bandana gunmetal blue\n",
      "bandana fuchsia\n",
      "bandana aqua\n",
      "bandana Dark Sapphire\n",
      "bandana auburn\n",
      "bandana cerise\n",
      "bandana burnt sienna\n",
      "cumber band maple\n",
      "cumber band gunmetal blue\n",
      "cumber band fuchsia\n",
      "cumber band aqua\n",
      "cumber band Dark Sapphire\n",
      "cumber band auburn\n",
      "cumber band cerise\n",
      "cumber band burnt sienna\n",
      "blazer maple\n",
      "blazer gunmetal blue\n",
      "blazer fuchsia\n",
      "blazer aqua\n",
      "blazer Dark Sapphire\n",
      "blazer auburn\n",
      "blazer cerise\n",
      "blazer burnt sienna\n",
      "vest maple\n",
      "vest gunmetal blue\n",
      "vest fuchsia\n",
      "vest aqua\n",
      "vest Dark Sapphire\n",
      "vest auburn\n",
      "vest cerise\n",
      "vest burnt sienna\n",
      "french beret maple\n",
      "french beret gunmetal blue\n",
      "french beret fuchsia\n",
      "french beret aqua\n",
      "french beret Dark Sapphire\n",
      "french beret auburn\n",
      "french beret cerise\n",
      "french beret burnt sienna\n",
      "scarf maple\n",
      "scarf gunmetal blue\n",
      "scarf fuchsia\n",
      "scarf aqua\n",
      "scarf Dark Sapphire\n",
      "scarf auburn\n",
      "scarf cerise\n",
      "scarf burnt sienna\n",
      "stole maple\n",
      "stole gunmetal blue\n",
      "stole fuchsia\n",
      "stole aqua\n",
      "stole Dark Sapphire\n",
      "stole auburn\n",
      "stole cerise\n",
      "stole burnt sienna\n"
     ]
    }
   ],
   "source": [
    "#Flow Control Question 4\n",
    "\n",
    "#4. Write a nested loop that prints out every piece of clothing from the couture list, in every fashionable color from the panettone set: \n",
    "# couture = [\"trousers\", \"blouse\", \"bandana\", \"cumber band\", \"blazer\", \"vest\", \"french beret\", \"scarf\", \"stole\"]\n",
    "# panettone = {\"cerise\", \"fuchsia\", \"aqua\", \"maple\", \"auburn\", \"burnt sienna\", \"gunmetal blue\", \"Dark Sapphire\"}\n",
    "\n",
    "couture = [\"trousers\", \"blouse\", \"bandana\", \"cumber band\", \"blazer\", \"vest\", \"french beret\", \"scarf\", \"stole\"] \n",
    "panettone = {\"cerise\", \"fuchsia\", \"aqua\", \"maple\", \"auburn\", \"burnt sienna\", \"gunmetal blue\", \"Dark Sapphire\"}\n",
    "\n",
    "for x in couture:\n",
    "\tfor y in panettone:\n",
    "\t\tprint(x,y)  "
   ]
  },
  {
   "cell_type": "code",
   "execution_count": 2,
   "metadata": {},
   "outputs": [
    {
     "name": "stdout",
     "output_type": "stream",
     "text": [
      "5050\n"
     ]
    }
   ],
   "source": [
    "#Flow Control Question 5\n",
    "\n",
    "# 5. Use range as a loop to calculate the sum of all the numbers from 1 to 100\n",
    "\n",
    "sum = 0\n",
    "for number in range(1,101):\n",
    "    sum += number\n",
    "print(sum)"
   ]
  },
  {
   "cell_type": "code",
   "execution_count": 19,
   "metadata": {},
   "outputs": [
    {
     "name": "stdout",
     "output_type": "stream",
     "text": [
      "The second item in the fruit list is banana\n",
      "I have replaced the apples with kiwi\n",
      "Added an orange ['kiwi', 'banana', 'cherry', 'orange']\n",
      "Put lemon in second position ['kiwi', 'lemon', 'banana', 'cherry', 'orange']\n",
      "I have removed the banana ['kiwi', 'lemon', 'cherry', 'orange']\n",
      "['kiwi', 'melon']\n",
      "['cherry', 'orange', 'kiwi']\n",
      "7\n",
      "['orange', 'melon', 'mango', 'kiwi', 'cherry', 'banana', 'apple']\n"
     ]
    }
   ],
   "source": [
    "#Flow Control Question 6\n",
    "\n",
    "# Print the second item in this fruits list. [\"apple\", \"banana\", \"cherry\"]\n",
    "# Change the value from \"apple\" to \"kiwi\", in the fruits list. [\"apple\", \"banana\", \"cherry\"]\n",
    "# Use the append method to add \"orange\" to the fruits list. [\"apple\", \"banana\", \"cherry\"]\n",
    "# Use the insert method to add \"lemon\" as the second item in the fruits list. [\"apple\", \"banana\", \"cherry\"]\n",
    "# Use the remove method to remove \"banana\" from the fruits list. [\"apple\", \"banana\", \"cherry\"]\n",
    "# Use negative indexing to print the 3rd and 2nd to last items in the list. [\"apple\", \"banana\", \"cherry\", \"orange\", \"kiwi\", \"melon\", \"mango\"]\n",
    "# Use a range of indexes to print the third, fourth, and fifth item in the list. [\"apple\", \"banana\", \"cherry\", \"orange\", \"kiwi\", \"melon\", \"mango\"]\n",
    "# Use the correct syntax to print the number of items in the list. [\"apple\", \"banana\", \"cherry\", \"orange\", \"kiwi\", \"melon\", \"mango\"]\n",
    "# Use the correct syntax to sort this list in reverse order [\"apple\", \"banana\", \"cherry\", \"orange\", \"kiwi\", \"melon\", \"mango\"]\n",
    "\n",
    "fruits_list = [\"apple\", \"banana\", \"cherry\"]\n",
    "print(\"The second item in the fruit list is\", fruits_list[1])\n",
    "\n",
    "fruits_list[0] = \"kiwi\"\n",
    "print(\"I have replaced the apples with\", fruits_list[0])\n",
    "\n",
    "fruits_list.append(\"orange\")\n",
    "print(\"Added an orange\", fruits_list)\n",
    "\n",
    "fruits_list.insert(1,\"lemon\")\n",
    "print(\"Put lemon in second position\", fruits_list)\n",
    "\n",
    "fruits_list.remove(\"banana\")\n",
    "print(\"I have removed the banana\", fruits_list)\n",
    "\n",
    "new_list = [\"apple\", \"banana\", \"cherry\", \"orange\", \"kiwi\", \"melon\", \"mango\"]\n",
    "\n",
    "print(new_list[-3:-1])\n",
    "\n",
    "print(new_list[2:5])\n",
    "\n",
    "print(len(new_list))\n",
    "\n",
    "new_list.sort(reverse = True)\n",
    "print(new_list)\n"
   ]
  },
  {
   "cell_type": "markdown",
   "metadata": {},
   "source": [
    "# Use a Python code file for this section:\n",
    "\n",
    "Use the DateTime module to get Current Date and Time, and save it to a variable. Then extract just the Full month name form that variable.\n",
    "\n",
    "Write a simple function that takes 2 parameters -- a first name and a day name.\n",
    "\n",
    "Set a default value for the day name of Sunday.\n",
    "\n",
    "Have the function print out a greeting -- using the parameters -- that says something like \"Hi first-name! Happy day-name!\". Remember to use the variables in the greeting to replace first-name and day-name.\n",
    "\n",
    "Invoke this function with 2 variables.\n",
    "\n",
    "Invoke this function with 1 variable only.\n",
    "\n",
    "Write a block of code to handle one of the most common Python exception errors. Select one of the common errors from the curriculum section on Python Exception handling. Have your code example uses the try,except, else, and finally components.\n",
    "\n",
    " "
   ]
  },
  {
   "cell_type": "code",
   "execution_count": 21,
   "metadata": {},
   "outputs": [],
   "source": [
    "#Python Question\n",
    "\n",
    "import datetime as dt"
   ]
  },
  {
   "cell_type": "code",
   "execution_count": null,
   "metadata": {},
   "outputs": [
    {
     "name": "stdout",
     "output_type": "stream",
     "text": [
      "March\n"
     ]
    }
   ],
   "source": [
    "today = dt.datetime.now()\n",
    "print(today.strftime(\"%B\"))"
   ]
  },
  {
   "cell_type": "code",
   "execution_count": 45,
   "metadata": {},
   "outputs": [
    {
     "name": "stdout",
     "output_type": "stream",
     "text": [
      "Ayana Sunday\n"
     ]
    }
   ],
   "source": [
    "def displayMessage(first_name,day_name):\n",
    "    print(first_name, day_name)\n",
    "\n",
    "displayMessage(\"Ayana\",\"Sunday\")"
   ]
  },
  {
   "cell_type": "code",
   "execution_count": 43,
   "metadata": {},
   "outputs": [
    {
     "name": "stdout",
     "output_type": "stream",
     "text": [
      "Hello, my name is Ayana, and today is Sunday\n"
     ]
    }
   ],
   "source": [
    "def displayMessage(first_name,day_name):\n",
    "    print(f\"Hello, my name is {first_name}, and today is {day_name}\")\n",
    "\n",
    "displayMessage(\"Ayana\",\"Sunday\")\n"
   ]
  },
  {
   "cell_type": "code",
   "execution_count": null,
   "metadata": {},
   "outputs": [
    {
     "name": "stdout",
     "output_type": "stream",
     "text": [
      "Hello, my name is Ayana, and today is Sunday\n"
     ]
    }
   ],
   "source": [
    "##confused what happened here, trying to invoke 1 variable, which I am unsure about\n",
    "def displayMessage(first_name,day_name):\n",
    "    print(f\"Hello, my name is {first_name}, and today is {day_name}\")\n",
    "\n",
    "displayMessage(first_name,\"Sunday\")"
   ]
  },
  {
   "cell_type": "code",
   "execution_count": 49,
   "metadata": {},
   "outputs": [
    {
     "name": "stdout",
     "output_type": "stream",
     "text": [
      "An IndexError exception occured.\n",
      "You have performed exception handling.\n"
     ]
    }
   ],
   "source": [
    "food_joy = [\"sushi\", \"ramen\", \"curry\", \"fish\", \"chicken patties\",\"fruit basket\"]\n",
    "\n",
    "try:\n",
    "    print(food_joy[6])\n",
    "except IndexError:\n",
    "    print(\"An IndexError exception occured.\")\n",
    "else:\n",
    "    print(\"No error occurred.\")\n",
    "finally:\n",
    "    print(\"You have performed exception handling.\")"
   ]
  }
 ],
 "metadata": {
  "kernelspec": {
   "display_name": "Python 3",
   "language": "python",
   "name": "python3"
  },
  "language_info": {
   "codemirror_mode": {
    "name": "ipython",
    "version": 3
   },
   "file_extension": ".py",
   "mimetype": "text/x-python",
   "name": "python",
   "nbconvert_exporter": "python",
   "pygments_lexer": "ipython3",
   "version": "3.13.2"
  }
 },
 "nbformat": 4,
 "nbformat_minor": 2
}
