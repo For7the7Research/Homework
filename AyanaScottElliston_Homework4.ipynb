{
 "cells": [
  {
   "cell_type": "markdown",
   "metadata": {},
   "source": [
    "# Homework 4"
   ]
  },
  {
   "cell_type": "markdown",
   "metadata": {},
   "source": [
    "## CONCEPT QUESTIONS\n",
    "\n",
    "1. What does one need to do to use a module?\n",
    "\n",
    "One needs to import the module or package into your environment. Otherwise, you will receive an error that the name is not defined.\n",
    "\n",
    "2. Name a Module (not the DateTime Nodule) we looked at and write a line or 2 of code as an example using this module.\n",
    "\n",
    "import random\n",
    "print(random.int(1,50))\n",
    "\n",
    "3. What is a benefit of using Exception handling?\n",
    "\n",
    "You can set a response that you have dictated to arise when you expect an error in a specific area of your code\n",
    "\n",
    "4. what are the 4 components used for Python Exception Handling?\n",
    "\n",
    "try, except, else, and finally\n",
    "\n",
    "5. NumPy arrays are like what Python data type?\n",
    "\n",
    "\n",
    "\n",
    "6. What is one of the main benefits of using NumPy arrays.\n",
    "\n",
    "\n",
    "\n",
    "7. What is one of the main requirements about the 'dtype' of NumPy arrays?\n",
    "\n",
    "\n",
    "\n",
    "8. Of the 10 uses of NumPy, name 2.\n",
    "\n",
    "\n",
    "\n",
    "9. Name one of the other libraries we'll use with NumPy?\n",
    "\n",
    "\n",
    "\n",
    "10. What is the shape of NumPy arrays?\n",
    "\n",
    "\n",
    "\n",
    "11. What is a Tensor?\n",
    "\n",
    "\n",
    "\n",
    "12. Name a reason why it's better using NumPy for Data Analysis than using a Python List?\n",
    "\n",
    "\n",
    "\n",
    "13. When creating an \"empty\" array, where do the elements come from?\n",
    "\n"
   ]
  },
  {
   "cell_type": "markdown",
   "metadata": {},
   "source": [
    "# Flow Control Methods:\n",
    "\n",
    "1. Create an if statement: if 'age' is greater than or equal to 25, print \"Renting a car is more affordable\", however if 'age' is less than 25, print \"Renting a car is very expensive.\"\n",
    "2. Create and chain an if-else statement: if 'age' is greater than or equal to 25, print \"Renting a car is more affordable.\" If 'age' is less than 25 but greater than or equal to 18, print \"Renting a car is very expensive.\" Finally, if age is less than 18, print \"You cannot legally rent a car.\"\n",
    "3. Loop over the following string to (1) count all the characters in the string and (2) print out all the vowels -- \"The quick brown fox jumps over the lazy dog\"\n",
    "4. Write a nested loop that prints out every piece of clothing from the couture list, in every fashionable color from the panettone set: couture = [\"trousers\", \"blouse\", \"bandana\", \"cumber band\", \"blazer\", \"vest\", \"french beret\", \"scarf\", \"stole\"] and panettone = {\"cerise\", \"fuchsia\", \"aqua\", \"maple\", \"auburn\", \"burnt sienna\", \"gunmetal blue\", \"Dark Sapphire\"}\n",
    "5. Use range as a loop to calculate the sum of all the numbers from 1 to 100\n",
    "6. Print the second item in this fruits list. [\"apple\", \"banana\", \"cherry\"]\n",
    "7. Change the value from \"apple\" to \"kiwi\", in the fruits list. [\"apple\", \"banana\", \"cherry\"]\n",
    "8. Use the append method to add \"orange\" to the fruits list. [\"apple\", \"banana\", \"cherry\"]\n",
    "9.  Use the insert method to add \"lemon\" as the second item in the fruits list. [\"apple\", \"banana\", \"cherry\"]\n",
    "10.  Use the remove method to remove \"banana\" from the fruits list. [\"apple\", \"banana\", \"cherry\"]\n",
    "11. Use negative indexing to print the 3rd and 2nd to last items in the list. [\"apple\", \"banana\", \"cherry\", \"orange\", \"kiwi\", \"melon\", \"mango\"]\n",
    "12. Use a range of indexes to print the third, fourth, and fifth item in the list. [\"apple\", \"banana\", \"cherry\", \"orange\", \"kiwi\", \"melon\", \"mango\"]\n",
    "13. Use the correct syntax to print the number of items in the list. [\"apple\", \"banana\", \"cherry\", \"orange\", \"kiwi\", \"melon\", \"mango\"]\n",
    "14. Use the correct syntax to sort this list in reverse order [\"apple\", \"banana\", \"cherry\", \"orange\", \"kiwi\", \"melon\", \"mango\"]"
   ]
  },
  {
   "cell_type": "code",
   "execution_count": null,
   "metadata": {},
   "outputs": [
    {
     "name": "stdout",
     "output_type": "stream",
     "text": [
      "Renting a car is more affordable.\n"
     ]
    }
   ],
   "source": [
    "#Flow Control Question 1\n",
    "\n",
    " #Create an if statement: if 'age' is greater than or equal to 25, print \"Renting a car is more affordable\", however if 'age' is less than 25, print \"Renting a car is very expensive.\"\n",
    "\n",
    "age = int(input())\n",
    "\n",
    "if age >= 25:\n",
    "    print(\"Renting a car is more affordable.\")\n",
    "else:\n",
    "    print(\"Renting a car is very expensive!\")"
   ]
  },
  {
   "cell_type": "code",
   "execution_count": 11,
   "metadata": {},
   "outputs": [
    {
     "name": "stdout",
     "output_type": "stream",
     "text": [
      "You cannot legally rent a car.\n"
     ]
    }
   ],
   "source": [
    "#Flow Control Question 2\n",
    "\n",
    "#2. Create and chain an if-else statement: if 'age' is greater than or equal to 25, print \"Renting a car is more affordable.\" If 'age' is less than 25 \n",
    "# but greater than or equal to 18, print \"Renting a car is very expensive.\" Finally, if age is less than 18, print \"You cannot legally rent a car.\"\n",
    "\n",
    "age = int(input())\n",
    "\n",
    "if age >= 25:\n",
    "    print(\"Renting a car is more affordable.\")\n",
    "elif age <25 and age >= 18:\n",
    "    print(\"Renting a car is very expensive!\") \n",
    "else:\n",
    "    print(\"You cannot legally rent a car.\")"
   ]
  },
  {
   "cell_type": "code",
   "execution_count": 21,
   "metadata": {},
   "outputs": [
    {
     "name": "stdout",
     "output_type": "stream",
     "text": [
      "44\n",
      "e\n",
      "u\n",
      "i\n",
      "o\n",
      "o\n",
      "u\n",
      "o\n",
      "e\n",
      "e\n",
      "a\n",
      "o\n"
     ]
    }
   ],
   "source": [
    "#Flow Control Question 3\n",
    "\n",
    "#3. Loop over the following string to (1) count all the characters in the string and (2) print out all the vowels -- \"The quick brown fox jumps over the lazy dog\"\n",
    "\n",
    "stringy= \"The quick brown fox jumps over the lazy dog.\"\n",
    "vowels = \"aeiouAEIOU\"\n",
    "\n",
    "print(len(stringy))\n",
    "\n",
    "for char in stringy:\n",
    "    if char in vowels:\n",
    "        print(char)"
   ]
  },
  {
   "cell_type": "markdown",
   "metadata": {},
   "source": [
    "# Use a Python code file for this section:\n",
    "\n",
    "Use the DateTime module to get Current Date and Time, and save it to a variable. Then extract just the Full month name form that variable.\n",
    "\n",
    "Write a simple function that takes 2 parameters -- a first name and a day name.\n",
    "\n",
    "Set a default value for the day name of Sunday.\n",
    "\n",
    "Have the function print out a greeting -- using the parameters -- that says something like \"Hi first-name! Happy day-name!\". Remember to use the variables in the greeting to replace first-name and day-name.\n",
    "\n",
    "Invoke this function with 2 variables.\n",
    "\n",
    "Invoke this function with 1 variable only.\n",
    "\n",
    "Write a block of code to handle one of the most common Python exception errors. Select one of the common errors from the curriculum section on Python Exception handling. Have your code example uses the try,except, else, and finally components.\n",
    "\n",
    " "
   ]
  },
  {
   "cell_type": "code",
   "execution_count": null,
   "metadata": {},
   "outputs": [],
   "source": [
    "#Python Question"
   ]
  }
 ],
 "metadata": {
  "kernelspec": {
   "display_name": "Python 3",
   "language": "python",
   "name": "python3"
  },
  "language_info": {
   "codemirror_mode": {
    "name": "ipython",
    "version": 3
   },
   "file_extension": ".py",
   "mimetype": "text/x-python",
   "name": "python",
   "nbconvert_exporter": "python",
   "pygments_lexer": "ipython3",
   "version": "3.13.2"
  }
 },
 "nbformat": 4,
 "nbformat_minor": 2
}
