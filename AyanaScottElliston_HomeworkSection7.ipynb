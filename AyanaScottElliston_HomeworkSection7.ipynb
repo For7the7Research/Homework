{
 "cells": [
  {
   "cell_type": "markdown",
   "metadata": {},
   "source": [
    "### Directions\n",
    "#### You will need to open up the SavvyCoders_SQL_EVtables.db for the first part of the HW.\n",
    "\n",
    "#### If you need to change databases you will be instructed to do so.\n",
    "\n",
    "#### Please answer all of the questions in a markdown file. Here is the sample format:"
   ]
  },
  {
   "cell_type": "markdown",
   "metadata": {},
   "source": [
    "#### 7.1 HW Questions\n",
    "\n",
    "1. Using EVregistry, Write a query to select the ModelYear, Make, and Model off all of the vehicles in the registry.\n",
    "\n",
    "2. Using the EVRegistry table, Write a query that lists all of the unique types of EV's. your reult set should have one column, ElectricVehicleType.\n",
    "\n",
    "3. Using the EVRegistry, Write a query that shows all of the information on Battery Electric Vehicles (BEV) that are in the registry.\n",
    "\n",
    "4. Using the EVRegistry, wirte a query that returns the Make and Model of all of the EV's that have a BaseMSRP between 20000 and 35000?"
   ]
  },
  {
   "cell_type": "markdown",
   "metadata": {},
   "source": [
    "#### Question 1\n",
    "\n",
    "*SQL Code*\n",
    "SELECT \"ModelYear\", \"Make\", \"Model\" \n",
    "FROM \"EVRegistry\""
   ]
  },
  {
   "cell_type": "markdown",
   "metadata": {},
   "source": [
    "#### Question 2\n",
    "\n",
    "*SQL Code*\n",
    "SELECT DISTINCT \"ElectricVehicleType\" \n",
    "FROM \"EVRegistry\";"
   ]
  },
  {
   "cell_type": "markdown",
   "metadata": {},
   "source": [
    "#### Question 3\n",
    "\n",
    "*SQL Code*\n",
    "SELECT *\n",
    "FROM \"EVRegistry\"\n",
    "WHERE ElectricVehicleType = 'Battery Electric Vehicle (BEV)'"
   ]
  },
  {
   "cell_type": "markdown",
   "metadata": {},
   "source": [
    "#### Question 4\n",
    "\n",
    "*SQL Code*\n",
    "SELECT Make, Model\n",
    "FROM \"EVRegistry\"\n",
    "WHERE BaseMSRP > 20000 AND BaseMSRP < 35000"
   ]
  },
  {
   "cell_type": "markdown",
   "metadata": {},
   "source": [
    "#### 7.2 HW Questions\n",
    "\n",
    "1. Using EVRegistry, write a query to find a record where the City attribute is NULL. Return all of the available columns.\n",
    "\n",
    "2. Write a query to find the make, model, and ElectricVehicleType where the VIN number has that ends in '3E1EA1J'.\n",
    "\n",
    "3. Select the ModelYear, make, model, ElectricVehicleType, and range of the Tesla vehicles or cheverolet vehicles in the registry. Order the result set by Make and Model year in from newest to oldest.\n",
    "\n",
    "4. Using EVCharging, Write a query to find out how many many times those stations were used. Order them by the most used to the least used and limit the output to 5 records.\n",
    "\n",
    "5. Using EVCharging, For the folks who charged longer than 0.5 hours, show the min and max of the charging time for each user. Your output columns should be userid, minTime, and maxTime. Order this result set by the last two columns respectively."
   ]
  },
  {
   "cell_type": "markdown",
   "metadata": {},
   "source": [
    "#### Question 1\n",
    "\n",
    "*SQL Code*\n",
    "SELECT *\n",
    "\n",
    "FROM EVRegistry\n",
    "\n",
    "WHERE City = NULL"
   ]
  },
  {
   "cell_type": "markdown",
   "metadata": {},
   "source": [
    "#### Question 2\n",
    "\n",
    "*SQL Code*\n",
    "SELECT \"Make\", \"Model\", \"ElectricVehicleType\", VIN\n",
    "FROM \"EVRegistry\"\n",
    "WHERE VIN like '%3E1EA1J'"
   ]
  },
  {
   "cell_type": "markdown",
   "metadata": {},
   "source": [
    "#### Question 3\n",
    "\n",
    "*SQL Code*\n",
    "\n",
    "SELECT \"ModelYear\", \"Make\", \"Model\", \"ElectricVehicleType\", \"ElectricRange\" \n",
    "\n",
    "FROM \"EVRegistry\"\n",
    "\n",
    "WHERE Make = 'TESLA' OR Make = 'CHEVROLET'\n",
    "\n",
    "ORDER by Make, ModelYear DESC"
   ]
  },
  {
   "cell_type": "markdown",
   "metadata": {},
   "source": [
    "#### Question 4\n",
    "\n",
    "*SQL Code*\n",
    "SELECT  DISTINCT  \"sessionId\", count(sessionid) as 'Usage', \"stationId\" \n",
    "FROM \"EVCharging\"\n",
    "GROUP by stationId\n",
    "ORDER by Usage DESC\n",
    "LIMIT 5\n"
   ]
  },
  {
   "cell_type": "markdown",
   "metadata": {},
   "source": [
    "#### Question 5\n",
    "\n",
    "*SQL Code*\n",
    "SELECT \"userId\", MIN(chargeTimeHrs) as 'minTime', MAX(chargeTimeHrs) as 'maxTime'\n",
    "\n",
    "FROM \"EVCharging\"\n",
    "\n",
    "WHERE chargeTimeHrs > 0.5\n",
    "\n",
    "GROUP by userId\n",
    "\n",
    "ORDER by minTime ASC, maxTime ASC"
   ]
  },
  {
   "cell_type": "markdown",
   "metadata": {},
   "source": [
    "### Before moving on with the rest of the questions please set up the new database\n",
    "\n",
    "1. in SQLlite close any open DB\n",
    "\n",
    "2. file----> Open Database\n",
    "\n",
    "3. Choose SavvyCoders_SQL_chargeDB.db from the resource repository from this section in the curriculum\n",
    "\n",
    "4. Make sure that you have 5 tables:\n",
    "    - dimDay\n",
    "    - dimFacility\n",
    "    - dimUser\n",
    "    - factCharge\n",
    "    - EVCharging"
   ]
  },
  {
   "cell_type": "markdown",
   "metadata": {},
   "source": [
    "#### 7.3 HW Questions\n",
    "\n",
    "1. Using EVCharging, Which day of the week has the highest average charging time? Round the answer to 2 decimal points.\n",
    "\n",
    "2. Using, EV charging, Find the total power consumed from charging EV's by each User. Return the userId and name the calculated column, totalPower. Round the answer to 2 deciaml points and list the out put in highest to lowest order. Limit the order to the top 15 users.\n",
    "\n",
    "3. Using dimfacility and factCharge, write a query to find out which type of facility (GROUP BY) has the most amount of charging stations. Return type Facility and name the calculated column numStation. Order the result set from highest to lowest number of charging stations.\n",
    "\n",
    "4. In your own words, Briefly explain Primary Keys and Foreign Keys.\n",
    "\n",
    "5. Using EV Charging, For the folks who charged longer than one hour, show the min and max of the charging time for each user. Your output columns should be userid, minTime, and maxTime. Order this result set by the last two columns respectively. HINT: USE HAVING"
   ]
  },
  {
   "cell_type": "markdown",
   "metadata": {},
   "source": [
    "#### Question 1\n",
    "\n",
    "Wednesday has the highest average charging time of the week. The average charging time is 2.94 hours."
   ]
  },
  {
   "cell_type": "markdown",
   "metadata": {},
   "source": [
    "#### Question 2\n",
    "\n",
    "Here is the userId for the user who used the most power charging their EV, 35897499. They used a toal of 1013.26 kwh.\n"
   ]
  },
  {
   "cell_type": "markdown",
   "metadata": {},
   "source": [
    "#### Question 3\n",
    "\n",
    "SELECT dimFacility.typeFacility, factCharge.stationId, count(factCharge.stationID) as 'numStation'\n",
    "\n",
    "FROM dimFacility, factCharge\n",
    "\n",
    "GROUP by typeFacility\n",
    "\n",
    "ORDER by numStation\n",
    "\n",
    "/* i feel i have done something wrong because my output has the same count of numStations for all four typeFacility */\n"
   ]
  },
  {
   "cell_type": "markdown",
   "metadata": {},
   "source": [
    "#### Question 4\n",
    "\n",
    "A primary key is a unique identifier for every record within a table. Like in the EVCharging table, sessionID is an identifier for all of the values related to that charging session.\n",
    "A foreign key connects a table to another table. For example, if we are to relate the EVCharging table to the dimUser. If dimUser is the primary table, and the primary key is UserID, then the foreign key would be sessionID in the EVCharging table. Every session of charging relates to the primary table through the userID, primary key. "
   ]
  },
  {
   "cell_type": "markdown",
   "metadata": {},
   "source": [
    "#### Question 5\n",
    "\n",
    "SELECT  DISTINCT userId, MIN(chargeTimeHrs) as 'minTime', MAX(chargeTimeHrs) as 'maxTime', chargeTimeHrs\n",
    "\n",
    "FROM EVCharging\n",
    "\n",
    "WHERE chargeTimeHrs > 1.00\n",
    "\n",
    "GROUP by userId\n",
    "\n",
    "--HAVING chargeTimeHrs > 1.00\n",
    "\n",
    "ORDER by minTime ASC, maxTIme ASC\n",
    "\n",
    "/*when I try using HAVING it does not seem to filter out the charge times less than an hour, what should I do. I used where and it did filter it out.*/"
   ]
  }
 ],
 "metadata": {
  "language_info": {
   "name": "python"
  }
 },
 "nbformat": 4,
 "nbformat_minor": 2
}
