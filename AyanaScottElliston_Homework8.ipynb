{
 "cells": [
  {
   "cell_type": "markdown",
   "metadata": {},
   "source": [
    "# Homework 8\n",
    "---"
   ]
  },
  {
   "cell_type": "markdown",
   "metadata": {},
   "source": [
    "## Section 1"
   ]
  },
  {
   "cell_type": "markdown",
   "metadata": {},
   "source": [
    "SELECT \"Accel\" \n",
    "\n",
    "FROM \"evCars\";"
   ]
  },
  {
   "cell_type": "markdown",
   "metadata": {},
   "source": [
    "SELECT \"Accel\", RTRIM(Accel, ' sec')\n",
    "\n",
    "FROM \"evCars\";"
   ]
  },
  {
   "cell_type": "markdown",
   "metadata": {},
   "source": [
    "UPDATE evCars \n",
    "\n",
    "SET Accel = RTRIM(Accel, ' sec')\n"
   ]
  },
  {
   "cell_type": "markdown",
   "metadata": {},
   "source": [
    "SELECT Accel\n",
    "FROM evCars;"
   ]
  },
  {
   "cell_type": "markdown",
   "metadata": {},
   "source": [
    "ALTER TABLE evCars\n",
    " RENAME Accel TO accelSec"
   ]
  },
  {
   "cell_type": "markdown",
   "metadata": {},
   "source": [
    "## Section 2"
   ]
  },
  {
   "cell_type": "markdown",
   "metadata": {},
   "source": [
    "SELECT \"TopSpeed\" \n",
    "FROM \"evCars\";"
   ]
  },
  {
   "cell_type": "markdown",
   "metadata": {},
   "source": [
    "SELECT \"TopSpeed\" , RTRIM(TopSpeed, ' km/h')\n",
    "FROM \"evCars\";"
   ]
  },
  {
   "cell_type": "markdown",
   "metadata": {},
   "source": [
    "UPDATE evCars\n",
    "\n",
    "SET \"TopSpeed\" = RTRIM(TopSpeed, ' km/h')"
   ]
  },
  {
   "cell_type": "markdown",
   "metadata": {},
   "source": [
    "SELECT \"TopSpeed\" , ROUND(TopSpeed\t* 0.621371, 1)\n",
    "\n",
    "FROM \"evCars\";"
   ]
  },
  {
   "cell_type": "markdown",
   "metadata": {},
   "source": [
    "UPDATE evCars\n",
    "\n",
    "SET TopSpeed = TopSpeed\t* 0.621371"
   ]
  },
  {
   "cell_type": "markdown",
   "metadata": {},
   "source": [
    "ALTER TABLE evCars\n",
    "\n",
    "RENAME TopSpeed TO topSpeedMPH"
   ]
  },
  {
   "cell_type": "markdown",
   "metadata": {},
   "source": [
    "SELECT *\n",
    "\n",
    "FROM evCars"
   ]
  },
  {
   "cell_type": "markdown",
   "metadata": {},
   "source": [
    "## Section 3"
   ]
  },
  {
   "cell_type": "markdown",
   "metadata": {},
   "source": [
    "SELECT \"Range\" FROM \"evCars\";"
   ]
  },
  {
   "cell_type": "markdown",
   "metadata": {},
   "source": [
    "SELECT \"Range\", RTRIM(Range, ' km')\n",
    "\n",
    "FROM \"evCars\";"
   ]
  },
  {
   "cell_type": "markdown",
   "metadata": {},
   "source": [
    "UPDATE evCars \n",
    "SET Range = RTRIM(Range, ' km')"
   ]
  },
  {
   "cell_type": "markdown",
   "metadata": {},
   "source": [
    "SELECT \"Range\" FROM \"evCars\";"
   ]
  },
  {
   "cell_type": "markdown",
   "metadata": {},
   "source": [
    "SELECT Range , ROUND(Range\t* 0.621371, 1) as RangeMiles\n",
    "\n",
    "FROM \"evCars\";"
   ]
  },
  {
   "cell_type": "markdown",
   "metadata": {},
   "source": [
    "UPDATE evCars\n",
    "\n",
    "SET Range = Range\t* 0.621371"
   ]
  },
  {
   "cell_type": "markdown",
   "metadata": {},
   "source": [
    "SELECT \"Range\" FROM \"evCars\";"
   ]
  },
  {
   "cell_type": "markdown",
   "metadata": {},
   "source": [
    "ALTER TABLE evCars\n",
    "\n",
    "RENAME Range TO rangeMiles"
   ]
  },
  {
   "cell_type": "markdown",
   "metadata": {},
   "source": [
    "SELECT *\n",
    "FROM evCars"
   ]
  },
  {
   "cell_type": "markdown",
   "metadata": {},
   "source": [
    "## Section 4"
   ]
  },
  {
   "cell_type": "markdown",
   "metadata": {},
   "source": [
    "SELECT \"Efficiency\", \"FastCharge\" FROM \"evCars\";\n"
   ]
  },
  {
   "cell_type": "markdown",
   "metadata": {},
   "source": [
    "SELECT Efficiency, RTRIM(Efficiency, ' Wh/km'),  FastCharge, rtrim(FastCharge, ' km/h')\n",
    "\n",
    "FROM \"evCars\";"
   ]
  },
  {
   "cell_type": "markdown",
   "metadata": {},
   "source": [
    "UPDATE evCars\n",
    "\n",
    "SET \"Efficiency\" = RTRIM(Efficiency, ' Wh/km'),\n",
    "FastCharge = rtrim(FastCharge, ' km/h')\n"
   ]
  },
  {
   "cell_type": "markdown",
   "metadata": {},
   "source": [
    "SELECT * FROM \"evCars\";"
   ]
  },
  {
   "cell_type": "markdown",
   "metadata": {},
   "source": [
    "SELECT \"FastCharge\" , ROUND(FastCharge * 0.621371, 1) as OneHourFastChargeMiles\n",
    "\n",
    "FROM \"evCars\";"
   ]
  },
  {
   "cell_type": "markdown",
   "metadata": {},
   "source": [
    "UPDATE evCars\n",
    "SET FastCharge = FastCharge\t* 0.621371"
   ]
  },
  {
   "cell_type": "markdown",
   "metadata": {},
   "source": [
    "ALTER TABLE evCars\n",
    "\n",
    "RENAME FastCharge TO OneHourFastChargeMiles"
   ]
  },
  {
   "cell_type": "markdown",
   "metadata": {},
   "source": [
    "ALTER TABLE evCars\n",
    "\n",
    "RENAME Efficiency TO efficiencyWHperKM"
   ]
  },
  {
   "cell_type": "markdown",
   "metadata": {},
   "source": [
    "SELECT *\n",
    "FROM evCars"
   ]
  },
  {
   "cell_type": "markdown",
   "metadata": {},
   "source": [
    "## Section 5"
   ]
  },
  {
   "cell_type": "markdown",
   "metadata": {},
   "source": [
    "SELECT RapidCharge, Count(*)\n",
    "\n",
    "FROM evCars\n",
    "\n",
    "GROUP by RapidCharge"
   ]
  },
  {
   "cell_type": "markdown",
   "metadata": {},
   "source": [
    "- For the purpose of this exercise, if the car's RapidCharge value equals 'Rapid charging possible', then I want you to change the value to 'Yes'\n",
    "- If the RapidCharge value equals 'Rapid charging not possible' then I want you to change the value to 'No'.\n"
   ]
  },
  {
   "cell_type": "markdown",
   "metadata": {},
   "source": [
    "SELECT  RapidCharge, REPLACE('Rapid charging not possible', 'Rapid charging not possible', 'No')\n",
    "\n",
    "FROM evCars\n",
    "\n",
    "SELECT  RapidCharge, REPLACE(RapidCharge, 'Rapid charging possible', 'Yes') as YesString,\n",
    "FROM evCars"
   ]
  },
  {
   "cell_type": "markdown",
   "metadata": {},
   "source": [
    "UPDATE evCars\n",
    "\n",
    "SET RapidCharge = REPLACE(RapidCharge, 'Rapid charging possible', 'Yes')\n",
    "\n",
    "UPDATE evCars\n",
    "\n",
    "SET RapidCharge = REPLACE(RapidCharge, 'Rapid charging not possible', 'No')\n",
    "\n",
    "SELECT \"RapidCharge\" FROM \"evCars\";\n",
    "\n",
    "SELECT RapidCharge, Count(*)\n",
    "FROM evCars\n",
    "GROUP by RapidCharge\n",
    "\n",
    "--ok numbers matching"
   ]
  },
  {
   "cell_type": "markdown",
   "metadata": {},
   "source": [
    "## Section 6"
   ]
  },
  {
   "cell_type": "markdown",
   "metadata": {},
   "source": [
    "SELECT PowerTrain, Count(*)\n",
    "\n",
    "FROM evCars\n",
    "\n",
    "GROUP by PowerTrain"
   ]
  },
  {
   "cell_type": "markdown",
   "metadata": {},
   "source": [
    "*Look at the three DISTINCT values from the query you wrote in 6.1 and fill in the blanks.*\n",
    "\n",
    "- If the PowerTrain equals 'All Wheel Drive', then I want you to change the value to 'AWD'\n",
    "- If the PowerTrain equals 'Rear Wheel Drive', then I want you to change the value to 'RWD'\n",
    "- If the PowerTrain equals 'Front Wheel Drive', then I want you to change the value to 'FWD'"
   ]
  },
  {
   "cell_type": "markdown",
   "metadata": {},
   "source": [
    "SELECT  PowerTrain, REPLACE(PowerTrain, 'Front Wheel Drive', 'FWD')\n",
    "FROM evCars\n",
    "\n",
    "SELECT  PowerTrain, REPLACE(PowerTrain, 'Rear Wheel Drive', 'RWD')\n",
    "FROM evCars\n",
    "\n",
    "SELECT  PowerTrain, REPLACE(PowerTrain, 'All Wheel Drive', 'AWD')\n",
    "FROM evCars"
   ]
  },
  {
   "cell_type": "markdown",
   "metadata": {},
   "source": [
    "UPDATE evCars\n",
    "\n",
    "SET PowerTrain = REPLACE(PowerTrain, 'Rear Wheel Drive', 'RWD')\n",
    "\n",
    "UPDATE evCars\n",
    "\n",
    "SET PowerTrain = REPLACE(PowerTrain, 'Front Wheel Drive', 'FWD')\n",
    "\n",
    "UPDATE evCars\n",
    "\n",
    "SET PowerTrain = REPLACE(PowerTrain, 'All Wheel Drive', 'AWD')"
   ]
  },
  {
   "cell_type": "markdown",
   "metadata": {},
   "source": [
    "select *\n",
    "FROM evCars"
   ]
  },
  {
   "cell_type": "markdown",
   "metadata": {},
   "source": [
    "## Section 7"
   ]
  },
  {
   "cell_type": "markdown",
   "metadata": {},
   "source": [
    "SELECT \"PriceEuro\" FROM \"evCars\";"
   ]
  },
  {
   "cell_type": "markdown",
   "metadata": {},
   "source": [
    "SELECT \"PriceEuro\" , ROUND(PriceEuro * 1.09, 2) as PriceEuro\n",
    "FROM \"evCars\";"
   ]
  },
  {
   "cell_type": "markdown",
   "metadata": {},
   "source": [
    "UPDATE evCars\n",
    "\n",
    "SET PriceEuro = PriceEuro * 1.09"
   ]
  },
  {
   "cell_type": "markdown",
   "metadata": {},
   "source": [
    "ALTER TABLE evCars\n",
    "\n",
    "RENAME PriceEuro TO PriceUSD"
   ]
  },
  {
   "cell_type": "markdown",
   "metadata": {},
   "source": [
    "select *\n",
    "FROM evCars"
   ]
  }
 ],
 "metadata": {
  "language_info": {
   "name": "python"
  }
 },
 "nbformat": 4,
 "nbformat_minor": 2
}
