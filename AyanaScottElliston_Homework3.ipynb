{
 "cells": [
  {
   "cell_type": "markdown",
   "metadata": {},
   "source": [
    "# Homework 3\n",
    "\n",
    "---"
   ]
  },
  {
   "cell_type": "markdown",
   "metadata": {},
   "source": [
    "1. **What is an algorithm?**\n",
    "\n",
    "    An alogrithm is a series of steps to solve a problem. \n",
    "\n",
    "2. **Variable names may not start with certain characters - name two.**\n",
    "\n",
    "    Variables cannot start with special characters or numbers.\n",
    "\n",
    "3. **What is a Semantic error?**\n",
    "\n",
    "    It is when the output is not the intended output, but the code itself is grammatically correct\n",
    "\n",
    "4. **What is the #1 rule of coding / debugging?**\n",
    "\n",
    "    Complexity is the enemy of efficiency. Keep your code simple.\n",
    "\n",
    "5. **List 5 Python reserved words.**\n",
    "\n",
    "    FALSE, TRUE, None, or & and."
   ]
  },
  {
   "cell_type": "code",
   "execution_count": null,
   "metadata": {},
   "outputs": [
    {
     "name": "stdout",
     "output_type": "stream",
     "text": [
      " \n",
      "~~~~~~~~~~~~~~~~~~~~~~~~~~~~~~~~~~~~~~~~~\n",
      "          Ayana Scott-Elliston\n",
      "            Japanese food\n",
      "             Data Analyst \n",
      "    at an Environmental Protection Firm\n",
      "~~~~~~~~~~~~~~~~~~~~~~~~~~~~~~~~~~~~~~~~~~\n",
      "\n"
     ]
    }
   ],
   "source": [
    "#Question 6\n",
    "\n",
    "bio = \"\"\" \n",
    "~~~~~~~~~~~~~~~~~~~~~~~~~~~~~~~~~~~~~~~~~\n",
    "          Ayana Scott-Elliston\n",
    "            Japanese food\n",
    "             Data Analyst \n",
    "    at an Environmental Protection Firm\n",
    "~~~~~~~~~~~~~~~~~~~~~~~~~~~~~~~~~~~~~~~~~~\n",
    "\"\"\"\n",
    "print(bio)"
   ]
  },
  {
   "cell_type": "code",
   "execution_count": 46,
   "metadata": {},
   "outputs": [
    {
     "name": "stdout",
     "output_type": "stream",
     "text": [
      "44\n",
      " \n"
     ]
    }
   ],
   "source": [
    "#Question 7\n",
    "\n",
    "x = 100\n",
    "\n",
    "y = 3.14\n",
    "\n",
    "z = \"The vegan pecan pie on pi day was delicious.\"\n",
    "\n",
    "q = True\n",
    "\n",
    "r = [\"pecans\", \"key lime\", \"sweet potato\"]\n",
    "\n",
    "print(len(z))\n",
    "print(z[3])\n"
   ]
  },
  {
   "cell_type": "code",
   "execution_count": null,
   "metadata": {},
   "outputs": [
    {
     "name": "stdout",
     "output_type": "stream",
     "text": [
      " Data Analytics\n",
      " Data Analytics and Python is great!\n"
     ]
    }
   ],
   "source": [
    "#Question 8\n",
    "\n",
    "savvy = \"Learning Data Analytics and Python is Awesome!\"\n",
    "\n",
    "len(savvy)\n",
    "\n",
    "print(savvy[8:23])\n",
    "\n",
    "newsavvy = savvy[8:]\n",
    "\n",
    "savvychange = newsavvy.replace(\"Awesome\", \"great\")\n",
    "\n",
    "print(savvychange)"
   ]
  },
  {
   "cell_type": "code",
   "execution_count": null,
   "metadata": {},
   "outputs": [
    {
     "name": "stdout",
     "output_type": "stream",
     "text": [
      "Hi my name is Ayana Scott-Elliston, I am five feet seven inches and 37 years old today.\n",
      "37.0\n",
      "<class 'float'>\n"
     ]
    }
   ],
   "source": [
    "#Question 9\n",
    "\n",
    "name, age, length = \"Ayana Scott-Elliston\", \"37\", \"five feet seven inches\"\n",
    "\n",
    "#print(name)\n",
    "#print(age)\n",
    "#print(length)\n",
    "\n",
    "miniBio = f\"Hi my name is {name}, I am {length} and {age} years old today.\"\n",
    "\n",
    "print(miniBio)\n",
    "#rework the bottom\n",
    "print(float(age), type(float(age)), sep=\"\\n\")"
   ]
  },
  {
   "cell_type": "code",
   "execution_count": 21,
   "metadata": {},
   "outputs": [
    {
     "name": "stdout",
     "output_type": "stream",
     "text": [
      "['leaves', 3.14, 10, True, ['Neverland', 'Lost Boy', 'Tinkerbell', 'Croc', 'Wendy Darling']]\n",
      "<class 'bool'>\n",
      "['leaves', 6.022, 10, True, ['Neverland', 'Lost Boy', 'Tinkerbell', 'Croc', 'Wendy Darling']]\n",
      "['leaves', 6.022, 10, True, ['Neverland', 'Lost Boy', 'Tinkerbell', 'Croc', 'Wendy Darling'], 'Mississippi']\n",
      "6\n",
      "[6.022, 10, True, ['Neverland', 'Lost Boy', 'Tinkerbell', 'Croc', 'Wendy Darling'], 'Mississippi']\n",
      "[6.022, 10, True, ['Neverland', 'Lost Boy', 'Tinkerbell', 'Croc', 'Wendy Darling'], 'Mississippi']\n",
      "['leaves', 6.022, 10, True, ['Neverland', 'Lost Boy', 'Tinkerbell', 'Croc', 'Wendy Darling'], 'Mississippi', 6.022, 10, True, ['Neverland', 'Lost Boy', 'Tinkerbell', 'Croc', 'Wendy Darling'], 'Mississippi']\n",
      "[1, 2, 3, 5, 8, 13, 21, 34]\n",
      "[34, 21, 13, 8, 5, 3, 2, 1]\n",
      "[34, 21, 13, 8, 5, 3, 2, 1]\n",
      "[34, 21, 13, 8, 5, 3, 2, 1, 34, 21, 13, 8, 5, 3, 2, 1]\n"
     ]
    }
   ],
   "source": [
    "# Question 10\n",
    "\n",
    "# Create a list of at least 5 elements of mixed data types\n",
    "\n",
    "gaGGle = [ \"leaves\", 3.14, 10, True, [\"Neverland\", \"Lost Boy\", \"Tinkerbell\", \"Croc\", \"Wendy Darling\"]]\n",
    "print(gaGGle)\n",
    "print(type(gaGGle[3]))\n",
    "\n",
    "# Replace a part of it with something else\n",
    "# note cannot use the replace function on lists, can only use replace on strings\n",
    "\n",
    "gaGGle[1] = 6.022\n",
    "print(gaGGle)\n",
    "\n",
    "# Append or insert several more items to the list\n",
    "\n",
    "gaGGle.append(\"Mississippi\")\n",
    "print(gaGGle)\n",
    "\n",
    "# Find and print the length of the list\n",
    "\n",
    "print(len(gaGGle))\n",
    "\n",
    "# Slice a sub-section of the 1st list, and save it to a different 2nd list\n",
    "\n",
    "grOUp = gaGGle[1::]\n",
    "print(grOUp)\n",
    "\n",
    "# Print the 2nd list\n",
    "\n",
    "print(grOUp)\n",
    "\n",
    "# Extend your original list with the 2nd list sliced above\n",
    "\n",
    "gaGGle.extend(grOUp)\n",
    "print(gaGGle)\n",
    "\n",
    "# Create a new list called \"simList\" containing at least 5 elements of the same data type, either string, integer, float, or Boolean\n",
    "\n",
    "simList = [1, 2, 3, 5, 8, 13, 21, 34]\n",
    "print(simList)\n",
    "\n",
    "# Sort \"simList\", and print the list\n",
    "\n",
    "simList.sort(reverse = True)\n",
    "print(simList)\n",
    "\n",
    "# Copy the \"simList\" list to another 3rd list\n",
    "\n",
    "copyList = simList.copy()\n",
    "print(copyList)\n",
    "\n",
    "# Add the 2nd and 3rd lists together into a 4th list\n",
    "\n",
    "aloOFalist = simList + copyList\n",
    "print(aloOFalist)\n"
   ]
  },
  {
   "cell_type": "code",
   "execution_count": null,
   "metadata": {},
   "outputs": [
    {
     "name": "stdout",
     "output_type": "stream",
     "text": [
      "('possum', 'are', 'the', 'best', 'period')\n",
      "('possum', 'are', 'the', 'best', 'period', 'possum', 'are', 'the', 'best', 'period', 'possum', 'are', 'the', 'best', 'period')\n",
      "the\n",
      "['are', 'are', 'are', 'best', 'best', 'best', 'period', 'period', 'period', 'possum', 'possum', 'possum', 'the', 'the', 'the']\n",
      "('possum', 'are', 'the', 'best')\n",
      "possum\n",
      "are\n",
      "the\n",
      "best\n",
      "50\n",
      "('possum', 'are', 'the', 'best', 'period', 'possum', 'are', 'the', 'best', 'period', 'possum', 'are', 'the', 'best', 'period', 'possum', 'are', 'the', 'best')\n"
     ]
    }
   ],
   "source": [
    "# Question 11 - Wish Me Luck\n",
    "#what are some real world applications for tuples?\n",
    "\n",
    "# Create a tuple of about 5 elements\n",
    "\n",
    "tup1 = (\"possum\", \"are\", \"the\", \"best\", \"period\")\n",
    "print(tup1)\n",
    "\n",
    "# Multiply your tuple by 3 and save it to a new 2nd tuple\n",
    "\n",
    "tup2 = tup1 * 3\n",
    "print(tup2)\n",
    "\n",
    "# Access and print the 12th element from the 2nd tuple\n",
    "# question because I was uncertain. Is element and index synonymous? It seemed to be used so, but I want to double check?\n",
    "\n",
    "print(tup2[12])\n",
    "\n",
    "# Sort the 2nd tuple and print it\n",
    "#learned can't sort values of different data types\n",
    "\n",
    "print(sorted(tup2))\n",
    "\n",
    "# Copy 4 specific elements from your 2nd tuple to a new 3nd tuple\n",
    "\n",
    "tup3 = tup2[:4]\n",
    "print(tup3)\n",
    "\n",
    "# Unpack the 3rd tuple into 4 variables and print these variables\n",
    "\n",
    "(possum, are, the, best) = tup3\n",
    "print(possum)\n",
    "print(are)\n",
    "print(the)\n",
    "print(best)\n",
    "\n",
    "# Create a 4th tuple with single item 50 and print this tuple\n",
    "\n",
    "tup4 = 50\n",
    "print(tup4)\n",
    "\n",
    "# Add the 2nd and 3rd tuple together into a 5th tuple and print the tuple\n",
    "\n",
    "tup5 = tup2 + tup3\n",
    "print(tup5)\n"
   ]
  },
  {
   "cell_type": "code",
   "execution_count": 63,
   "metadata": {},
   "outputs": [
    {
     "name": "stdout",
     "output_type": "stream",
     "text": [
      "{4, 37, 'starfruit', 'papaya', 25, 'nesberries'}\n",
      "{'Toyota', 25, 4, 37}\n",
      "{4, 37, 'am', 'Toyota', 'confused', 'very', 'I', 25}\n",
      "confused\n",
      "{'I', 'am', 'very'}\n",
      "set()\n",
      "{4, 37, 'am', 'Toyota', 'confused', 'very', 'I', 25}\n",
      "{4, 37, 'am', 'Toyota', 'confused', 'very', 'I'}\n",
      "{37, 'am', 'Toyota', 'confused', 'very', 'I'}\n"
     ]
    }
   ],
   "source": [
    "# Question 12 - wish Me Luck\n",
    "\n",
    "# Create a set of about 3 elements\n",
    "\n",
    "set1 = {37, 25, 4}\n",
    "\n",
    "# Add a list of fruits to the above set and print the result\n",
    "# when it says list here, does it mean a list as a data type or a set but with a number of fruits?\n",
    "fruitList = {\"nesberries\", \"starfruit\", \"papaya\"}\n",
    "print(set1.union(fruitList))\n",
    "\n",
    "# Add a car element to your set\n",
    "\n",
    "set1.add(\"Toyota\")\n",
    "print(set1)\n",
    "\n",
    "# Create a 2nd set with a few odd items\n",
    "\n",
    "set2 = {\"very\", \"confused\",\"I\",\"am\"}\n",
    "\n",
    "# Save the union of 1st set and 2nd set to a 3rd set\n",
    "\n",
    "set3 = set1|set2\n",
    "print(set3)\n",
    "\n",
    "# Pop an element from the 2nd set, and print the remainder of the set\n",
    "\n",
    "popped = set2.pop()\n",
    "print(popped)\n",
    "print(set2)\n",
    "\n",
    "# Clear the 1st set and print the result\n",
    "\n",
    "set1.clear()\n",
    "print(set1)\n",
    "\n",
    "# Discard an element, and remove another element from the 3rd set\n",
    "\n",
    "print(set3)\n",
    "set3.discard(25)\n",
    "print(set3)\n",
    "set3.remove(4)\n",
    "#print(set3)\n",
    "\n",
    "# Print the remainder of the 3rd set\n",
    "\n",
    "print(set3)"
   ]
  },
  {
   "cell_type": "code",
   "execution_count": 37,
   "metadata": {},
   "outputs": [
    {
     "name": "stdout",
     "output_type": "stream",
     "text": [
      "{'Title': 'Jericho', 'Artist': 'Iniko', 'Year': 2023, 'Length': 2.32, 'Genre': 'Alternative Pop'}\n",
      "2.32\n",
      "Ayana Scott-Elliston\n",
      "{'Title': 'Jericho', 'Artist': 'Iniko', 'Year': 2023, 'Length': 2.32, 'Genre': 'Ayana Scott-Elliston', 'Color': 'Blue'}\n",
      "{'Title': 'Jericho', 'Artist': 'Iniko', 'Year': 2023, 'Length': 2.32, 'Genre': 'Ayana Scott-Elliston', 'Color': 'Blue', 'Vibes': ['Space', 'Identity', 'Wonderland', 'Futuristic']}\n",
      "dict_keys(['Title', 'Artist', 'Year', 'Length', 'Genre', 'Color', 'Vibes'])\n",
      "dict_values(['Jericho', 'Iniko', 2023, 2.32, 'Ayana Scott-Elliston', 'Blue', ['Space', 'Identity', 'Wonderland', 'Futuristic']])\n",
      "{'Title': 'Jericho', 'Artist': 'Iniko', 'Year': 2023, 'Length': 2.32, 'Genre': 'Ayana Scott-Elliston', 'Color': 'Blue', 'Vibes': ['Space', 'Identity', 'Wonderland', 'Futuristic']}\n",
      "{'Title': 'Jericho', 'Artist': 'Iniko', 'Year': 2023, 'Length': 2.32, 'Genre': 'Ayana Scott-Elliston', 'Vibes': ['Space', 'Identity', 'Wonderland', 'Futuristic']}\n",
      "{}\n"
     ]
    }
   ],
   "source": [
    "# Question 13\n",
    "\n",
    "# Create a dictionary with at least 5 values of different data types\n",
    "\n",
    "music = {\"Title\" : \"Jericho\",\n",
    "        \"Artist\" : \"Iniko\",\n",
    "        \"Year\"   : 2023,\n",
    "        \"Length\" : 2.32,\n",
    "        \"Genre\"  : \"Alternative Pop\"}\n",
    "\n",
    "print(music)\n",
    "\n",
    "# Print out 1 value\n",
    "\n",
    "music[\"Length\"]\n",
    "print(music[\"Length\"])\n",
    "\n",
    "# Replace any one value in your dictionary with your name\n",
    "\n",
    "music[\"Genre\"] = \"Ayana Scott-Elliston\"\n",
    "print(music[\"Genre\"])\n",
    "\n",
    "# Add your favorite color to the dictionary\n",
    "\n",
    "music[\"Color\"] = \"Blue\"\n",
    "print(music)\n",
    "\n",
    "# Add a list, tuple or set to your dictionary\n",
    "\n",
    "music[\"Vibes\"] = [\"Space\", \"Identity\", \"Wonderland\",\"Futuristic\"]\n",
    "print(music)\n",
    "\n",
    "# Print a list of the dictionary keys\n",
    "\n",
    "print(music.keys())\n",
    "\n",
    "# Print a list of the dictionary values\n",
    "\n",
    "print(music.values())\n",
    "\n",
    "# Copy your 1st dictionary into a 2nd dictionary\n",
    "\n",
    "musique = music.copy()\n",
    "print(musique)\n",
    "\n",
    "# Pop an item from the 2nd dictionary, and print the dictionary\n",
    "\n",
    "musique.pop(\"Color\")\n",
    "print(musique)\n",
    "\n",
    "# Remove all the elements from the 2nd dictionary and print the result\n",
    "\n",
    "musique.clear()\n",
    "print(musique)"
   ]
  }
 ],
 "metadata": {
  "kernelspec": {
   "display_name": "Python 3",
   "language": "python",
   "name": "python3"
  },
  "language_info": {
   "codemirror_mode": {
    "name": "ipython",
    "version": 3
   },
   "file_extension": ".py",
   "mimetype": "text/x-python",
   "name": "python",
   "nbconvert_exporter": "python",
   "pygments_lexer": "ipython3",
   "version": "3.9.6"
  }
 },
 "nbformat": 4,
 "nbformat_minor": 2
}
