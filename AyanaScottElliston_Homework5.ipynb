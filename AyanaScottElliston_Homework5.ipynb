{
 "cells": [
  {
   "cell_type": "markdown",
   "metadata": {},
   "source": [
    "# Homework Section 5\n",
    "\n",
    "### 1. What does Pandas stand for?\n",
    "\n",
    "It stands for or was derived from Panel Data and Python Data Analysis\n",
    "\n",
    "### 2. What are the 2 collections used in Pandas?\n",
    "\n",
    "The two collections used in Pandas are series and data frames.\n",
    "\n",
    "### 3. Name 4 things Pandas can do for us.\n",
    "\n",
    "Pandas can manipulate data, prepare data, model data, and analyze the data.\n",
    "\n",
    "### 4. To permanently sort a DataFrame, which keyword should one use with the df.sort() method?\n",
    "\n",
    "inplace = True\n",
    "\n",
    "### 5. What is a CSV?\n",
    "\n",
    "A CSV is a comma separated values file.\n",
    "\n",
    "### 6. When cleaning data what values do we not like in our data?\n",
    "\n",
    "NA or NaN values"
   ]
  },
  {
   "cell_type": "code",
   "execution_count": null,
   "metadata": {},
   "outputs": [
    {
     "name": "stdout",
     "output_type": "stream",
     "text": [
      "[[[ 1  2]\n",
      "  [ 3  4]\n",
      "  [ 5  6]]\n",
      "\n",
      " [[ 7  8]\n",
      "  [ 9 10]\n",
      "  [11 12]]]\n",
      "(2, 3, 2)\n"
     ]
    }
   ],
   "source": [
    "####Please Complete this Coding Exercise:####\n",
    "\n",
    "#7. Import NumPy, use one of the NumPy methods and create an array with a shape of (2, 3, 2). You can use the reshape method -- .reshape()\n",
    "\n",
    "import numpy as np\n",
    "\n",
    "#shape - 3 dimensions, first dimension has two elements - number of rows, second dimention has three elements - number of columns, and the third dimension has two elements\n",
    "#ok it seems for this 2,3,2 array to calculate needed elements 2 multiplied by 3 then multipled by 2 will give me the needed number of elements\n",
    "\n",
    "arrayA = np.array([1,2,3,4,5,6,7,8,9,10, 11, 12])\n",
    "\n",
    "newA = arrayA.reshape(2,3,2)\n",
    "\n",
    "print(newA)\n",
    "print(newA.shape)\n"
   ]
  },
  {
   "cell_type": "code",
   "execution_count": 6,
   "metadata": {},
   "outputs": [
    {
     "name": "stdout",
     "output_type": "stream",
     "text": [
      "[ 0.  4.  8. 12. 16. 20.]\n",
      "[ 0.  4.  8. 12. 16. 20.]\n"
     ]
    }
   ],
   "source": [
    "#8. Use NumPy .linspace() to create an array with 6 linearly spaced values between 0 and 20\n",
    "\n",
    "arrayLinear = np.linspace(0, 20, num = 6, endpoint = True)\n",
    "\n",
    "print(arrayLinear)\n",
    "\n",
    "#9. Make a Deep Copy of the above array\n",
    "\n",
    "import copy\n",
    "\n",
    "arrayTwin = copy.deepcopy(arrayLinear)\n",
    "\n",
    "print(arrayTwin)\n"
   ]
  },
  {
   "cell_type": "code",
   "execution_count": 7,
   "metadata": {},
   "outputs": [
    {
     "name": "stdout",
     "output_type": "stream",
     "text": [
      "[[25 16]\n",
      " [11  2]\n",
      " [13  4]\n",
      " [ 7 81]\n",
      " [ 5  6]\n",
      " [11 12]]\n"
     ]
    }
   ],
   "source": [
    "#10. Concatenate these 3 arrays into a new array named 'newArray'...\n",
    "\n",
    "arrayA = ([[25, 16]])\n",
    "arrayB = ([[11, 2], [13, 4]])\n",
    "arrayC = ([[7, 81], [5, 6], [11, 12]])\n",
    "\n",
    "newArray = np.concatenate((arrayA, arrayB, arrayC), axis = 0)\n",
    "\n",
    "print(newArray)"
   ]
  },
  {
   "cell_type": "code",
   "execution_count": 9,
   "metadata": {},
   "outputs": [
    {
     "name": "stdout",
     "output_type": "stream",
     "text": [
      "[[16 25]\n",
      " [ 2 11]\n",
      " [ 4 13]\n",
      " [ 7 81]\n",
      " [ 5  6]\n",
      " [11 12]]\n"
     ]
    }
   ],
   "source": [
    "#11. Sort 'newArray' in order into 'sortedArray'\n",
    "\n",
    "sortedArray = np.sort(newArray)\n",
    "\n",
    "print(sortedArray)"
   ]
  },
  {
   "cell_type": "code",
   "execution_count": null,
   "metadata": {},
   "outputs": [],
   "source": [
    "#12. Unpack the array tuples from the above 'reshapedArray' into 4 well named variables. Print the 4 variables.\n",
    "#confused is this the array from sortedArray or the first array from question 7????\n",
    "\n",
    "\n",
    "#tuple_a, tuple_b, tuple_c = newArray\n",
    "\n",
    "#print(\"a = \", tuple_a)\n",
    "#print(\"b = \", tuple_b)\n",
    "#print(\"c = \", c)\n",
    "#print(\"d = \", d)\n",
    "\n",
    "# i get the error too many values to unpack, please advice\n",
    "##HELP!!!!!"
   ]
  },
  {
   "cell_type": "code",
   "execution_count": 43,
   "metadata": {},
   "outputs": [
    {
     "name": "stdout",
     "output_type": "stream",
     "text": [
      "[ 0  1  2  3  4  5  6  7 10 11 12 13 14 15 16 17 20 21 22 23 24 25 26 27]\n",
      "1\n",
      "[ 2  3  4  5  6  7 10 11 12 13 14 15 16 17 20 21 22 23 24 25 26 27]\n",
      "[ 4  5  6  7 10 11 12 13 14 15 16]\n",
      "[21 22 23 24 25 26]\n",
      "[ 0  1  2  3  4  5  6  7 10 11 12 13 14 15]\n",
      "[20 22 24 26]\n",
      "[ 0  5 12 17 24]\n"
     ]
    }
   ],
   "source": [
    "\n",
    "#13. Combined and sort the following arrays into one called 'comboArray' ...\n",
    "\n",
    "one = ([10, 11, 12, 13, 14, 15, 16, 17])\n",
    "two = ([20, 21, 22, 23, 24, 25, 26, 27])\n",
    "three = ([ 0, 1, 2, 3, 4, 5, 6, 7])\n",
    "\n",
    "comboArray = np.concatenate((one, two, three), axis = 0)\n",
    "\n",
    "updatedArray = np.sort(comboArray)\n",
    "\n",
    "print(updatedArray)\n",
    "\n",
    "#14. Take 'comboArray' and perform the following slicing activities:\n",
    "\n",
    "#print sec1 - the 2nd element\n",
    "\n",
    "print(updatedArray[1])\n",
    "\n",
    "#print sec2 - all elements from the 3rd element to the last\n",
    "\n",
    "print(updatedArray[2:])\n",
    "\n",
    "#print sec3 - all elements from the 4th to the 14th elements\n",
    "\n",
    "print(updatedArray[4:15])\n",
    "\n",
    "#print sec4 - the last 6 elements\n",
    "\n",
    "print(updatedArray[-7:-1])\n",
    "\n",
    "#print sec5 - all element from #0 up to and including #15, using the negative number method, i.e. taking a section from the end.\n",
    "\n",
    "print(updatedArray[-26:-10])\n",
    "\n",
    "#print sec6 - from #20 every even element to the end\n",
    "#unsure how this one worked, i have questions\n",
    "\n",
    "print(updatedArray[16::2])\n",
    "\n",
    "#print sec7 - from the last element moving forward, every 5th element.\n",
    "\n",
    "print(updatedArray[:-1:5])\n"
   ]
  },
  {
   "cell_type": "code",
   "execution_count": 46,
   "metadata": {},
   "outputs": [
    {
     "name": "stdout",
     "output_type": "stream",
     "text": [
      "0    Flour\n",
      "1     Milk\n",
      "2     Eggs\n",
      "3     Spam\n",
      "Name: Ingredients, dtype: object\n",
      "0    4\n",
      "1    1\n",
      "2    2\n",
      "3    1\n",
      "Name: Quantity, dtype: object\n",
      "0     cups\n",
      "1      cup\n",
      "2    large\n",
      "3      can\n",
      "Name: Unit, dtype: object\n",
      "  Ingredients Quantity   Unit\n",
      "0       Flour        4   cups\n",
      "1        Milk        1    cup\n",
      "2        Eggs        2  large\n",
      "3        Spam        1    can\n"
     ]
    }
   ],
   "source": [
    "#15. Using Series, create a DataFrame that looks like this:\n",
    "\n",
    "#IngredientsQuantityUnitFlour4cupsMilk1cupEggs2largeSpam1can\n",
    "\n",
    "#Name: Dinner, dtype: object\n",
    "import pandas as pd\n",
    "\n",
    "Ingredients = pd.Series([\"Flour\", \"Milk\", \"Eggs\", \"Spam\"], dtype = object, name = \"Ingredients\")\n",
    "Quantity = pd.Series([4, 1, 2, 1], dtype = object, name = \"Quantity\")\n",
    "Units = pd.Series([\"cups\", \"cup\", \"large\", \"can\"], dtype=object, name = \"Unit\")\n",
    "\n",
    "print(Ingredients)\n",
    "print(Quantity)\n",
    "print(Units)\n",
    "\n",
    "Dinner = pd.concat([Ingredients, Quantity, Units], axis = 1)\n",
    "print(Dinner)\n",
    "\n"
   ]
  },
  {
   "cell_type": "code",
   "execution_count": null,
   "metadata": {},
   "outputs": [
    {
     "name": "stdout",
     "output_type": "stream",
     "text": [
      "      Name  Height Qualification  address      desserts  Age        Pets  \\\n",
      "0      Jai     5.1           Msc    Delhi     ice cream   21         Dog   \n",
      "1  janusha     6.2            MA     Doha  Cashew Fudge   23       Bunny   \n",
      "2   Gaurav     5.1           Msc  Chennai       waffels   24  Chinchilla   \n",
      "3     Anuj     5.2           Msc   Dakhar  Carrot Halwa   21      Parrot   \n",
      "\n",
      "            sport  \n",
      "0           Darts  \n",
      "1      Basketball  \n",
      "2  PaddleBoarding  \n",
      "3         Cricket  \n",
      "      Name  Height Qualification  address      desserts  Age        Pets  \\\n",
      "3     Anuj     5.2           Msc   Dakhar  Carrot Halwa   21      Parrot   \n",
      "2   Gaurav     5.1           Msc  Chennai       waffels   24  Chinchilla   \n",
      "0      Jai     5.1           Msc    Delhi     ice cream   21         Dog   \n",
      "1  janusha     6.2            MA     Doha  Cashew Fudge   23       Bunny   \n",
      "\n",
      "            sport  \n",
      "3         Cricket  \n",
      "2  PaddleBoarding  \n",
      "0           Darts  \n",
      "1      Basketball  \n"
     ]
    }
   ],
   "source": [
    "#16. Take this data and create a DataFrame named studentData\n",
    "\n",
    "dataDict = {'Name': ['Jai', 'janusha', 'Gaurav', 'Anuj'],\n",
    "    'Height': [5.1, 6.2, 5.1, 5.2],\n",
    "    'Qualification': ['Msc', 'MA', 'Msc', 'Msc'],\n",
    "    'address': ['Delhi', 'Doha', 'Chennai', 'Dakhar'],\n",
    "    'Age': [21, 23, 24, 21],\n",
    "    'Pets': ['Dog', 'Bunny', 'Chinchilla', 'Parrot'],\n",
    "    'sport': ['Darts', 'Basketball', 'PaddleBoarding', 'Cricket']}\n",
    "\n",
    "studentData = pd.DataFrame(dataDict)\n",
    "print(studentData)\n",
    "\n",
    "#17. Add a new column to the DataFrame with the following deserts: [\"ice cream\", \"Cashew Fudge\", \"waffels\", \"Carrot Halwa\"]\n",
    "\n",
    "studentData.insert(4, \"desserts\", [\"ice cream\", \"Cashew Fudge\", \"waffels\", \"Carrot Halwa\"], True)\n",
    "print(studentData)\n",
    "\n",
    "#18. Sort the 'studentData' DataFrame in Ascending order -- Sorting by column 'Name' and then \"address\"\n",
    "\n",
    "studentData.sort_values(by = [\"Name\", \"address\"], inplace = True, ascending = True)\n",
    "print(studentData)\n"
   ]
  },
  {
   "cell_type": "code",
   "execution_count": 69,
   "metadata": {},
   "outputs": [],
   "source": [
    "#19. Save this DataFrame here below to disc as a .CSV file with the name cows_and_goats.csv:\n",
    "\n",
    "df = pd.DataFrame({'Cows': [12, 20], 'Goats': [22, 19]}, index=['Year 1', 'Year 2'])\n",
    "\n",
    "df.to_csv(\"cows_and_goats.csv\", index = False)"
   ]
  },
  {
   "cell_type": "code",
   "execution_count": 77,
   "metadata": {},
   "outputs": [
    {
     "name": "stdout",
     "output_type": "stream",
     "text": [
      "  Vegetable  quantity\n",
      "0    celery         1\n",
      "1  broccoli         2\n",
      "2   spinach         5\n"
     ]
    }
   ],
   "source": [
    "#20. Using Pandas, make your own .CSV file with data on vegetables and save it. (B) Using Pandas, make a change to your CSV file, and save a copy with a different name.\n",
    "\n",
    "df = pd.DataFrame({\"Vegetable\" : [\"celery\", \"broccoli\", \"spinach\"]})\n",
    "                                  \n",
    "df.to_csv(\"vegetables.csv\", index = False)          \n",
    "\n",
    "df.insert(1, \"quantity\", [1, 2, 5], True)\n",
    "\n",
    "print(df)\n",
    "\n",
    "df.to_csv(\"vegetable_harvest.csv\", index= False)\n",
    "\n"
   ]
  }
 ],
 "metadata": {
  "kernelspec": {
   "display_name": "Python 3",
   "language": "python",
   "name": "python3"
  },
  "language_info": {
   "codemirror_mode": {
    "name": "ipython",
    "version": 3
   },
   "file_extension": ".py",
   "mimetype": "text/x-python",
   "name": "python",
   "nbconvert_exporter": "python",
   "pygments_lexer": "ipython3",
   "version": "3.13.2"
  }
 },
 "nbformat": 4,
 "nbformat_minor": 2
}
