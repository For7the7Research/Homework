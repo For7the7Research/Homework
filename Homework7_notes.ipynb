{
 "cells": [
  {
   "cell_type": "markdown",
   "metadata": {},
   "source": [
    "# Homework7 Notes from Danielle\n",
    "\n",
    "Hello @Ayana Scott-Elliston Amazing job on SQL coding! I included some suggestions and examples below. I will keep this ticket open for now, especially if you have any questions. \n",
    "\n",
    "Markdown suggestion: One way to make your coding stand out is by the following:\n",
    "\n",
    "Coding:\n",
    "\n",
    "![notes](/Users/Toki3Duckie/code/SavvyCoders/Homework/HW7_image1.png)\n",
    "\n",
    "Markdown feature:\n",
    "\n",
    "![notes](/Users/Toki3Duckie/code/SavvyCoders/Homework/HW7_image2.png)\n",
    "\n",
    "7.1 / #4: I suggest adding >= vs. just the greater than sign (>). In order to return Base MSRP between 20000 and 35000, you will add the equal sign to ensure it also catches 20000 or 35000.\n",
    "\n",
    "7.2 / #1: Another coding alternative is IS NULL vs. = NULL\n",
    "\n",
    "7.3 / #1 and #2: This one made me laugh! We were hoping for the coding, but after rereading the question, I can see that it’s worded in a way that suggests for the query result. \n",
    "\n",
    "7.3 / #3: Example coding: \n",
    "\n",
    "\n",
    "<pre>\n",
    "1 SELECT b.typeFacility ,COUNT(DISTINCT a.stationId) as numStation\n",
    "2 FROM factCharge AS a\n",
    "3 INNER JOIN dimFacility AS b ON b.FacilityKey = a.facilityID -- can use JOIN as well as INNER JOIN\n",
    "4 GROUP BY b.typeFacility --can also use 'GROUP BY 1'\n",
    "5 ORDER BY COUNT(DISTINCT a.stationId) DESC -- can also use 'ORDER BY 2 DESC'\n",
    "</pre>\n",
    "\n",
    "7.3 / #4: For your HAVING question, try adding MIN. Example: HAVING MIN(chargetimeHrs) > 1 "
   ]
  }
 ],
 "metadata": {
  "language_info": {
   "name": "python"
  }
 },
 "nbformat": 4,
 "nbformat_minor": 2
}
